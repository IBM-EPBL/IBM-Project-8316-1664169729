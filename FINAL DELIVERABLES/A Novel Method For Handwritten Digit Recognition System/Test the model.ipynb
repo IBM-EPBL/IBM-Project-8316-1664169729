{
 "cells": [
  {
   "cell_type": "code",
   "execution_count": 2,
   "id": "d7deee12",
   "metadata": {},
   "outputs": [],
   "source": [
    "from tensorflow.keras.models import load_model\n",
    "from PIL import Image #used for manipulating image uploaded by the user.\n",
    "import numpy as np #used for numerrical analysis\n",
    "model = load_model(r'C:\\Users\\Divyasri\\flask_test\\A Novel Method For Handwritten Digit Recognition System\\Build Model\\mnistCNN.h5')"
   ]
  },
  {
   "cell_type": "code",
   "execution_count": 6,
   "id": "7a316c67",
   "metadata": {},
   "outputs": [],
   "source": [
    "img = Image.open(r'C:\\Users\\Divyasri\\flask_test\\A Novel Method For Handwritten Digit Recognition System\\data\\fifth.jpg').convert(\"L\") # convert image to monochrome\n",
    "img = img.resize( (28, 28) ) # resizing of input image\n",
    "im2arr = np.array(img) #converting to image\n",
    "im2arr = im2arr.reshape(1, 28, 28, 1) #reshaping according to our requirement"
   ]
  },
  {
   "cell_type": "code",
   "execution_count": 7,
   "id": "764c5f42",
   "metadata": {},
   "outputs": [
    {
     "name": "stdout",
     "output_type": "stream",
     "text": [
      "1/1 [==============================] - 0s 40ms/step\n",
      "[[3.4599949e-17 2.5394691e-12 1.0834442e-11 6.2969475e-15 1.0000000e+00\n",
      "  4.9627919e-12 8.9321975e-16 1.2137755e-10 3.6603559e-10 3.6983256e-08]]\n"
     ]
    }
   ],
   "source": [
    "# Predicting the Test set results\n",
    "y_pred = model.predict(im2arr) #predicting the results\n",
    "print(y_pred)"
   ]
  },
  {
   "cell_type": "code",
   "execution_count": 8,
   "id": "1fa7e04c",
   "metadata": {},
   "outputs": [
    {
     "name": "stdout",
     "output_type": "stream",
     "text": [
      "[4]\n"
     ]
    }
   ],
   "source": [
    "import numpy as np\n",
    "print(np.argmax(y_pred, axis=1)) #printing our Labels from first 4 images"
   ]
  }
 ],
 "metadata": {
  "kernelspec": {
   "display_name": "Python 3 (ipykernel)",
   "language": "python",
   "name": "python3"
  },
  "language_info": {
   "codemirror_mode": {
    "name": "ipython",
    "version": 3
   },
   "file_extension": ".py",
   "mimetype": "text/x-python",
   "name": "python",
   "nbconvert_exporter": "python",
   "pygments_lexer": "ipython3",
   "version": "3.9.8"
  }
 },
 "nbformat": 4,
 "nbformat_minor": 5
}
